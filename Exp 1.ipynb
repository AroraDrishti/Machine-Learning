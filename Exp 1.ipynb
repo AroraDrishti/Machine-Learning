{
 "cells": [
  {
   "cell_type": "markdown",
   "metadata": {},
   "source": [
    "# EXPERIMENT 1 "
   ]
  },
  {
   "cell_type": "markdown",
   "metadata": {},
   "source": [
    "#### Q1. a. To study basic Python modules such as statistics , math , numpy and scipy"
   ]
  },
  {
   "cell_type": "markdown",
   "metadata": {},
   "source": [
    "##### 1. math Module:\n",
    "<div style=\"text-align: justify\">\n",
    "This module provides access to the mathematical functions defined by the C standard. <br>\n",
    "These functions cannot be used with complex numbers, use the functions of the same name from the cmath module if you require support for complex numbers. The distinction between functions which support complex numbers and those which don't is made since most users do not want to learn quite as much mathematics as required to understand complex numbers. Receiving an exception instead of a complex result allows earlier detection of the unexpected complex number used as a parameter, so that the programmer can determine how and why it was generated in the first place. Except when explicitly noted otherwise, all return values are floats. </div>"
   ]
  },
  {
   "cell_type": "code",
   "execution_count": 1,
   "metadata": {},
   "outputs": [],
   "source": [
    "import math"
   ]
  },
  {
   "cell_type": "code",
   "execution_count": 2,
   "metadata": {},
   "outputs": [
    {
     "name": "stdout",
     "output_type": "stream",
     "text": [
      "Constants in math module:\n",
      "math.pi: 3.141592653589793\n",
      "math.e: 2.718281828459045\n",
      "math.tau: 6.283185307179586\n",
      "math.inf: inf\n",
      "math.nan: nan\n"
     ]
    }
   ],
   "source": [
    "print(\"Constants in math module:\")\n",
    "print(f\"math.pi: {math.pi}\")\n",
    "print(f\"math.e: {math.e}\")\n",
    "print(f\"math.tau: {math.tau}\")\n",
    "print(f\"math.inf: {math.inf}\")\n",
    "print(f\"math.nan: {math.nan}\")"
   ]
  },
  {
   "cell_type": "code",
   "execution_count": 3,
   "metadata": {},
   "outputs": [
    {
     "name": "stdout",
     "output_type": "stream",
     "text": [
      "Square root of 16 is:  4.0\n",
      "Logarithm of 100 is:  4.605170185988092\n",
      "The logarithm (base 10) of 100 is:  2.0\n",
      "e^2 is:  7.38905609893065\n",
      "The sine of 0.7853981633974483 is:  0.7071067811865476\n",
      "The cosine of 0.7853981633974483 is:  0.7071067811865476\n",
      "The tangent of 0.7853981633974483 is:  0.9999999999999999\n",
      "The arcsine of 0.7071067811865476 is:  0.7853981633974484\n",
      "The arccosine of 0.7071067811865476 is:  0.7853981633974483\n",
      "The arctangent of 0.9999999999999999 is:  0.7853981633974483\n",
      "90 degrees is equal to  1.5707963267948966 radians.\n",
      "1.5707963267948966 radians is equal to  90.0 degrees.\n",
      "The floor value of 12.345 is:  12\n",
      "The ceil value of 12.345 is:  13\n",
      "The absolute value of -12.345 is:  12.345\n",
      "16 raised to the power of 3 is:  4096.0\n",
      "5  factorial is:  120\n",
      "12.345 in fractional and integer parts:  (0.34500000000000064, 12.0)\n",
      "16 modulo 25 is:  16.0\n",
      "The greatest common divisor of 16 and 25 is:  1\n",
      "The truncated value of 12.345 is:  12\n"
     ]
    }
   ],
   "source": [
    "# Using the sqrt() function\n",
    "num1 = 16\n",
    "num2 = 25\n",
    "print(\"Square root of\", num1, \"is: \", math.sqrt(num1))\n",
    "\n",
    "# Using the log() function\n",
    "num3 = 100\n",
    "print(\"Logarithm of\", num3, \"is: \", math.log(num3))\n",
    "\n",
    "# Using the log10() function\n",
    "print(\"The logarithm (base 10) of\", num3, \"is: \", math.log10(num3))\n",
    "\n",
    "# Using the exp() function\n",
    "print(\"e^2 is: \", math.exp(2))\n",
    "\n",
    "# Using the sin(), cos() and tan() functions\n",
    "angle = math.pi / 4\n",
    "print(\"The sine of\", angle, \"is: \", math.sin(angle))\n",
    "print(\"The cosine of\", angle, \"is: \", math.cos(angle))\n",
    "print(\"The tangent of\", angle, \"is: \", math.tan(angle))\n",
    "\n",
    "# Using the asin(), acos() and atan() functions\n",
    "print(\"The arcsine of\", math.sin(angle), \"is: \", math.asin(math.sin(angle)))\n",
    "print(\"The arccosine of\", math.cos(angle), \"is: \", math.acos(math.cos(angle)))\n",
    "print(\"The arctangent of\", math.tan(angle), \"is: \", math.atan(math.tan(angle)))\n",
    "\n",
    "# Using the degrees() and radians() functions\n",
    "degrees = 90\n",
    "print(degrees, \"degrees is equal to \", math.radians(degrees), \"radians.\")\n",
    "radians = math.pi / 2\n",
    "print(radians, \"radians is equal to \", math.degrees(radians), \"degrees.\")\n",
    "\n",
    "# Using the floor() and ceil() functions\n",
    "num4 = 12.345\n",
    "print(\"The floor value of\", num4, \"is: \", math.floor(num4))\n",
    "print(\"The ceil value of\", num4, \"is: \", math.ceil(num4))\n",
    "\n",
    "# Using the fabs() function\n",
    "num5 = -12.345\n",
    "print(\"The absolute value of\", num5, \"is: \", math.fabs(num5))\n",
    "\n",
    "# Using the pow() function\n",
    "print(num1, \"raised to the power of 3 is: \", math.pow(num1,3))\n",
    "\n",
    "# Using the factorial() function\n",
    "num6 = 5\n",
    "print(num6,\" factorial is: \", math.factorial(num6))\n",
    "\n",
    "# Using the modf() function\n",
    "print(num4, \"in fractional and integer parts: \", math.modf(num4))\n",
    "\n",
    "# Using the fmod() function\n",
    "print(num1, \"modulo\", num2, \"is: \", math.fmod(num1,num2))\n",
    "\n",
    "# Using the gcd() function\n",
    "print(\"The greatest common divisor of\", num1, \"and\", num2, \"is: \", math.gcd(num1,num2))\n",
    "\n",
    "# Using the trunc() function\n",
    "print(\"The truncated value of\", num4, \"is: \", math.trunc(num4))\n"
   ]
  },
  {
   "cell_type": "markdown",
   "metadata": {},
   "source": [
    "##### 2. statistics Module:\n",
    "<div style=\"text-align: justify\">\n",
    "This module provides functions for calculating mathematical statistics of numeric (Real-valued) data. <br>\n",
    "This module is not intended to be a competitor to third-party libraries such as NumPy, SciPy, or proprietary full-featured statistics packages aimed at professional statisticians such as Minitab, SAS and Matlab. It is aimed at the level of graphing and scientific calculators. </div>"
   ]
  },
  {
   "cell_type": "code",
   "execution_count": 4,
   "metadata": {},
   "outputs": [
    {
     "name": "stdout",
     "output_type": "stream",
     "text": [
      "Mean of the data set is:  5.5\n",
      "Median of the data set is:  5.5\n",
      "Mode of the data set is:  4\n",
      "Variance of the data set is:  9.166666666666666\n",
      "Standard deviation of the data set is:  3.0276503540974917\n",
      "Population standard deviation of the data set is:  2.8722813232690143\n",
      "Population variance of the data set is:  8.25\n",
      "Harmonic mean of the data set is:  3.414171521474055\n"
     ]
    }
   ],
   "source": [
    "import statistics as stats\n",
    "\n",
    "# Using the mean() function\n",
    "data = [1, 2, 3, 4, 5, 6, 7, 8, 9, 10]\n",
    "print(\"Mean of the data set is: \", stats.mean(data))\n",
    "\n",
    "# Using the median() function\n",
    "print(\"Median of the data set is: \", stats.median(data))\n",
    "\n",
    "# Using the mode() function\n",
    "data2 = [1, 2, 2, 3, 4, 4, 4, 5, 5, 6, 7, 8, 8, 9, 9, 10]\n",
    "print(\"Mode of the data set is: \", stats.mode(data2))\n",
    "\n",
    "# Using the variance() function\n",
    "print(\"Variance of the data set is: \", stats.variance(data))\n",
    "\n",
    "# Using the stdev() function\n",
    "print(\"Standard deviation of the data set is: \", stats.stdev(data))\n",
    "\n",
    "# Using the pstdev() function\n",
    "print(\"Population standard deviation of the data set is: \", stats.pstdev(data))\n",
    "\n",
    "# Using the pvariance() function\n",
    "print(\"Population variance of the data set is: \", stats.pvariance(data))\n",
    "\n",
    "# Using the harmonic_mean() function\n",
    "print(\"Harmonic mean of the data set is: \", stats.harmonic_mean(data))\n"
   ]
  },
  {
   "cell_type": "markdown",
   "metadata": {},
   "source": [
    "##### 3. numpy Module:\n",
    "<div style=\"text-align: justify\">\n",
    "NumPy is a library for the Python programming langugage, adding support for large, multi-dimensional arrays and matrices, along with a large collection of high-level mathematical functions to operate on these arrays. <br>\n",
    "Using NumPy in Python gives functionality comparable to MATLAB since they are both interpreted, and they both allow the user to write fast programs as long as most operations work on arrays or matrices instead of scalars. The core functionality of NumPy is its ndarray , for -dimensional array, data structure. These arrays are strided views on memory. In contrast to Python's built-in list data structure, these arrays are homogenously typed; all elements of a single array must be of the same type. </div>"
   ]
  },
  {
   "cell_type": "code",
   "execution_count": 5,
   "metadata": {},
   "outputs": [
    {
     "name": "stdout",
     "output_type": "stream",
     "text": [
      "Minimum value in the array:  1\n",
      "Maximum value in the array:  5\n",
      "Mean of the array:  3.0\n",
      "Sum of the array:  15\n",
      "Sorted array:  [1 2 3 4 5]\n",
      "Reshaped array:\n",
      " [[1]\n",
      " [2]\n",
      " [3]\n",
      " [4]\n",
      " [5]\n",
      " [6]\n",
      " [7]\n",
      " [8]\n",
      " [9]]\n",
      "Transpose of the array:\n",
      " [[1 2 3 4 5 6 7 8 9]]\n",
      "Trace of the array:  1\n",
      "linspace function :  [ 1.    3.25  5.5   7.75 10.  ]\n",
      "logspace function :  [1.00000000e+01 1.77827941e+03 3.16227766e+05 5.62341325e+07\n",
      " 1.00000000e+10]\n",
      "Identity matrix using eye function: \n",
      " [[1. 0. 0.]\n",
      " [0. 1. 0.]\n",
      " [0. 0. 1.]]\n",
      "Ones matrix : \n",
      " [[1. 1. 1.]\n",
      " [1. 1. 1.]\n",
      " [1. 1. 1.]]\n",
      "Zeros matrix : \n",
      " [[0. 0. 0.]\n",
      " [0. 0. 0.]\n",
      " [0. 0. 0.]]\n",
      "3x3 random matrix: \n",
      " [[0.71814251 0.80551707 0.81264586]\n",
      " [0.23095896 0.32860839 0.36146529]\n",
      " [0.01532045 0.12602035 0.46349364]]\n",
      "Dot product of the random matrix and identity matrix:\n",
      " [[0.71814251 0.80551707 0.81264586]\n",
      " [0.23095896 0.32860839 0.36146529]\n",
      " [0.01532045 0.12602035 0.46349364]]\n",
      "Diagonal elements of dot product matrix:  [0.71814251 0.32860839 0.46349364]\n",
      "Unique elements of the array:  [1 2 3 4 5 6]\n"
     ]
    }
   ],
   "source": [
    "import numpy as np\n",
    "\n",
    "# Create a 1-D array\n",
    "arr = np.array([1, 2, 3, 4, 5])\n",
    "\n",
    "# Using the min() and max() functions\n",
    "print(\"Minimum value in the array: \", np.min(arr))\n",
    "print(\"Maximum value in the array: \", np.max(arr))\n",
    "\n",
    "# Using the mean() and sum() functions\n",
    "print(\"Mean of the array: \", np.mean(arr))\n",
    "print(\"Sum of the array: \", np.sum(arr))\n",
    "\n",
    "# Using the sort() function\n",
    "arr = np.sort(arr)\n",
    "print(\"Sorted array: \", arr)\n",
    "\n",
    "# Create a 2-D array\n",
    "arr2d = np.array([[1, 2, 3], [4, 5, 6], [7, 8, 9]])\n",
    "\n",
    "# Using the reshape() function\n",
    "arr2d = np.reshape(arr2d, (9, 1))\n",
    "print(\"Reshaped array:\\n\", arr2d)\n",
    "\n",
    "# Using the transpose() function\n",
    "print(\"Transpose of the array:\\n\", np.transpose(arr2d))\n",
    "\n",
    "# Using the trace() function\n",
    "print(\"Trace of the array: \", np.trace(arr2d))\n",
    "\n",
    "# Using the linspace() function\n",
    "linspace = np.linspace(1,10,5)\n",
    "print(\"linspace function : \", linspace)\n",
    "\n",
    "# Using the logspace() function\n",
    "logspace = np.logspace(1,10,5)\n",
    "print(\"logspace function : \", logspace)\n",
    "\n",
    "# Using the eye() function\n",
    "eye = np.eye(3)\n",
    "print(\"Identity matrix using eye function: \\n\", eye)\n",
    "\n",
    "# Using the ones() and zeros() functions\n",
    "ones = np.ones((3,3))\n",
    "print(\"Ones matrix : \\n\",ones)\n",
    "zeros = np.zeros((3,3))\n",
    "print(\"Zeros matrix : \\n\",zeros)\n",
    "\n",
    "# Creating a Random Array\n",
    "rand = np.random.rand(3,3)\n",
    "print(\"3x3 random matrix: \\n\", rand)\n",
    "\n",
    "# Using the dot() function\n",
    "dot_product = np.dot(rand, eye)\n",
    "print(\"Dot product of the random matrix and identity matrix:\\n\", dot_product)\n",
    "\n",
    "# Using the diag() function\n",
    "diag = np.diag(dot_product)\n",
    "print(\"Diagonal elements of dot product matrix: \", diag)\n",
    "\n",
    "# Using the unique() function\n",
    "arr = np.array([1, 2, 2, 3, 4, 4, 5, 5, 6])\n",
    "unique = np.unique(arr)\n",
    "print(\"Unique elements of the array: \", unique)\n"
   ]
  },
  {
   "cell_type": "markdown",
   "metadata": {},
   "source": [
    "##### scipy Module:\n",
    "<div style=\"text-align: justify\">\n",
    "SciPy is a free and open-source Python library used for scientific computing and technical computing. It contains modules for\n",
    "optimization, linear algebra, integration, interpolation, special functions, FFT, signal and image processing, ODE solvers and other tasks common in science and engineering.<br>\n",
    "The SciPy package is at the core of Python's computing capabilities. The basic data structure used by SciPy is a multidimensional array provided by the NumPy module. NumPy provides some functions for linear algebra, Fourier transforms, and random number generation, but not with the generality of the equivalent functions in SciPy. NumPy can also be used as an efficient multidimensional container of data with arbitrary datatypes. This allows NumPy to seamlessly and speedily integrate with a wide variety of databases. Older versions of SciPy used Numeric as an array type, which is now deprecated in favor of the newer NumPy array code. </div>"
   ]
  },
  {
   "cell_type": "code",
   "execution_count": 6,
   "metadata": {},
   "outputs": [
    {
     "name": "stdout",
     "output_type": "stream",
     "text": [
      "Minimum value of the function:  8.315585579477458\n",
      "Minimum point of the function:  [3.83746709]\n",
      "Integral of the function:  48.83014606536962\n",
      "Interpolated value of the function:  23.20014037630698\n",
      "Probability density of the data set under normal distribution:  [2.41970725e-01 5.39909665e-02 4.43184841e-03 1.33830226e-04\n",
      " 1.48671951e-06 6.07588285e-09 9.13472041e-12 5.05227108e-15\n",
      " 1.02797736e-18 7.69459863e-23]\n",
      "Values of error function:  [-0.99997791 -0.99996774 -0.99995323 -0.99993266 -0.99990373 -0.99986331\n",
      " -0.99980729 -0.99973018 -0.99962483 -0.99948196 -0.99928962 -0.99903257\n",
      " -0.99869156 -0.99824246 -0.99765536 -0.99689344 -0.99591189 -0.99465667\n",
      " -0.99306318 -0.99105509 -0.98854301 -0.98542346 -0.98157787 -0.97687194\n",
      " -0.97115532 -0.96426173 -0.95600967 -0.94620369 -0.9346364  -0.92109126\n",
      " -0.90534611 -0.8871775  -0.86636577 -0.84270079 -0.81598822 -0.78605615\n",
      " -0.75276189 -0.71599866 -0.67570198 -0.63185531 -0.58449492 -0.5337134\n",
      " -0.47966192 -0.42255075 -0.36264811 -0.30027714 -0.23581117 -0.16966722\n",
      " -0.10229803 -0.03418284  0.03418284  0.10229803  0.16966722  0.23581117\n",
      "  0.30027714  0.36264811  0.42255075  0.47966192  0.5337134   0.58449492\n",
      "  0.63185531  0.67570198  0.71599866  0.75276189  0.78605615  0.81598822\n",
      "  0.84270079  0.86636577  0.8871775   0.90534611  0.92109126  0.9346364\n",
      "  0.94620369  0.95600967  0.96426173  0.97115532  0.97687194  0.98157787\n",
      "  0.98542346  0.98854301  0.99105509  0.99306318  0.99465667  0.99591189\n",
      "  0.99689344  0.99765536  0.99824246  0.99869156  0.99903257  0.99928962\n",
      "  0.99948196  0.99962483  0.99973018  0.99980729  0.99986331  0.99990373\n",
      "  0.99993266  0.99995323  0.99996774  0.99997791]\n",
      "Convolution of data sets:  [ 2  7 16 17 12]\n",
      "Fast Fourier Transform of the data set:  [55.+0.00000000e+00j -5.+1.53884177e+01j -5.+6.88190960e+00j\n",
      " -5.+3.63271264e+00j -5.+1.62459848e+00j -5.-1.33226763e-15j\n",
      " -5.-1.62459848e+00j -5.-3.63271264e+00j -5.-6.88190960e+00j\n",
      " -5.-1.53884177e+01j]\n"
     ]
    }
   ],
   "source": [
    "import numpy as np\n",
    "from scipy import optimize, integrate, interpolate, stats, special, signal\n",
    "\n",
    "# Defining the function\n",
    "def function(x):\n",
    "    return x**2 + 10*np.sin(x)\n",
    "\n",
    "# Using the minimize() function\n",
    "result = optimize.minimize(function, x0=3)\n",
    "print(\"Minimum value of the function: \", result.fun)\n",
    "print(\"Minimum point of the function: \", result.x)\n",
    "\n",
    "# Using the integrate() function\n",
    "result, _ = integrate.fixed_quad(function, 0, 5)\n",
    "print(\"Integral of the function: \", result)\n",
    "\n",
    "# Using the interpolate() function\n",
    "x = np.linspace(0, 10, 10)\n",
    "y = function(x)\n",
    "interp = interpolate.interp1d(x, y, kind='cubic')\n",
    "print(\"Interpolated value of the function: \", interp(5.5))\n",
    "\n",
    "# Using the norm() function\n",
    "data = [1, 2, 3, 4, 5, 6, 7, 8, 9, 10]\n",
    "print(\"Probability density of the data set under normal distribution: \", stats.norm.pdf(data))\n",
    "\n",
    "# Using the erf() function\n",
    "x = np.linspace(-3,3,100)\n",
    "print(\"Values of error function: \", special.erf(x))\n",
    "\n",
    "# Using the convolve() function\n",
    "data1 = [1, 2, 3]\n",
    "data2 = [2, 3, 4]\n",
    "conv = signal.convolve(data1, data2)\n",
    "print(\"Convolution of data sets: \", conv)\n",
    "\n",
    "# Using the fft() function\n",
    "data = np.array([1, 2, 3, 4, 5, 6, 7, 8, 9, 10])\n",
    "fft_data = np.fft.fft(data)\n",
    "print(\"Fast Fourier Transform of the data set: \", fft_data)"
   ]
  },
  {
   "cell_type": "code",
   "execution_count": 7,
   "metadata": {},
   "outputs": [
    {
     "name": "stdout",
     "output_type": "stream",
     "text": [
      "SciPy constants\n",
      "Speed of light: 299792458.0\n",
      "Speed of sound: 340.5\n",
      "Gravitational constant: 6.6743e-11\n",
      "Acceleration due to gravity: 9.80665\n",
      "Elementary charge: 1.602176634e-19\n",
      "Molar gas constant: 8.314462618\n",
      "Fine-structure constant: 0.0072973525693\n",
      "Avogadro's constant: 6.02214076e+23\n",
      "Boltzmann's constant: 1.380649e-23\n",
      "Stefan-Boltzmann's constant: 5.670374419e-08\n",
      "Electron mass: 9.1093837015e-31\n",
      "Proton mass: 1.67262192369e-27\n",
      "Neutron mass: 1.67492749804e-27\n",
      "Plank's constant: 6.62607015e-34\n"
     ]
    }
   ],
   "source": [
    "import scipy.constants \n",
    "print(\"SciPy constants\")\n",
    "print(f\"Speed of light: {scipy.constants.speed_of_light}\")\n",
    "print(f\"Speed of sound: {scipy.constants.speed_of_sound}\")\n",
    "print(f\"Gravitational constant: {scipy.constants.gravitational_constant}\")\n",
    "print(f\"Acceleration due to gravity: {scipy.constants.g}\")\n",
    "print(f\"Elementary charge: {scipy.constants.elementary_charge}\")\n",
    "print(f\"Molar gas constant: {scipy.constants.gas_constant}\")\n",
    "print(f\"Fine-structure constant: {scipy.constants.alpha}\")\n",
    "print(f\"Avogadro's constant: {scipy.constants.Avogadro}\")\n",
    "print(f\"Boltzmann's constant: {scipy.constants.Boltzmann}\")\n",
    "print(f\"Stefan-Boltzmann's constant: {scipy.constants.Stefan_Boltzmann}\")\n",
    "print(f\"Electron mass: {scipy.constants.electron_mass}\")\n",
    "print(f\"Proton mass: {scipy.constants.proton_mass}\")\n",
    "print(f\"Neutron mass: {scipy.constants.neutron_mass}\")\n",
    "print(f\"Plank's constant: {scipy.constants.Planck}\")"
   ]
  },
  {
   "cell_type": "markdown",
   "metadata": {},
   "source": [
    "#### Q1. b. To study Python modules such as pandas and matplotlib"
   ]
  },
  {
   "cell_type": "markdown",
   "metadata": {},
   "source": [
    "##### pandas Module:\n",
    "<div style=\"text-align: justify\">pandas is a software library written for the Python programming language for data manipulation and analysis. In particular, it offers data structures and operations for manipulating numerical tables and time series. This library is highly optimized for performance, with critical code paths written in Cython or C.<br>\n",
    "pandas is mainly used for data analysis and associated manipulation of tabular data in DataFrames. Pandas allows importing of data.\n",
    "from various file formats such as comma-separated values, JSON, Parquet, SQL database tables or queries, and Microsoft Excel.\n",
    "Pandas allows various data manipulation operations such as merging, reshaping, selecting, as well as data cleaning, and data wrangling features. The development of pandas introduced into Python many comparable features of working with DataFrames that were established in the R programming language. The pandas library is built upon another library NumPy, which is oriented to\n",
    "efficiently working with arrays instead of the features of working on DataFrames.</div>"
   ]
  },
  {
   "cell_type": "code",
   "execution_count": 8,
   "metadata": {},
   "outputs": [
    {
     "name": "stdout",
     "output_type": "stream",
     "text": [
      "Original DataFrame:\n",
      "    Name  Age Gender\n",
      "0   John   32      M\n",
      "1   Mike   45      M\n",
      "2  Sarah   28      F\n",
      "\n",
      "DataFrame with first 2 rows:\n",
      "   Name  Age Gender\n",
      "0  John   32      M\n",
      "1  Mike   45      M\n",
      "\n",
      "DataFrame with last 2 rows:\n",
      "    Name  Age Gender\n",
      "1   Mike   45      M\n",
      "2  Sarah   28      F\n",
      "\n",
      "Shape of the DataFrame: (3, 3)\n",
      "\n",
      "Statistical Description of the DataFrame:\n",
      "             Age\n",
      "count   3.000000\n",
      "mean   35.000000\n",
      "std     8.888194\n",
      "min    28.000000\n",
      "25%    30.000000\n",
      "50%    32.000000\n",
      "75%    38.500000\n",
      "max    45.000000\n",
      "\n",
      "DataFrame sorted by Age:\n",
      "    Name  Age Gender\n",
      "2  Sarah   28      F\n",
      "0   John   32      M\n",
      "1   Mike   45      M\n",
      "\n",
      "DataFrame grouped by Gender:\n",
      "         Age\n",
      "Gender      \n",
      "F       28.0\n",
      "M       38.5\n",
      "DataFrame with Name column set as index:\n",
      "       Age Gender\n",
      "Name             \n",
      "John    32      M\n",
      "Mike    45      M\n",
      "Sarah   28      F\n",
      "\n",
      "DataFrame with column names changed:\n",
      "       Age(Years) Gender\n",
      "Name                    \n",
      "John           32      M\n",
      "Mike           45      M\n",
      "Sarah          28      F\n",
      "\n",
      "DataFrame after dropping Gender column:\n",
      "       Age(Years)\n",
      "Name             \n",
      "John           32\n",
      "Mike           45\n",
      "Sarah          28\n",
      "\n",
      "DataFrame after filling missing values with 0:\n",
      "       Age(Years)\n",
      "Name             \n",
      "John           32\n",
      "Mike           45\n",
      "Sarah          28\n"
     ]
    }
   ],
   "source": [
    "import pandas as pd\n",
    "\n",
    "# Creating a DataFrame\n",
    "data = {'Name':['John', 'Mike', 'Sarah'],\n",
    "        'Age':[32, 45, 28],\n",
    "        'Gender':['M', 'M', 'F']}\n",
    "df = pd.DataFrame(data)\n",
    "print(\"Original DataFrame:\")\n",
    "print(df)\n",
    "\n",
    "# Using the head() function\n",
    "print(\"\\nDataFrame with first 2 rows:\")\n",
    "print(df.head(2))\n",
    "\n",
    "# Using the tail() function\n",
    "print(\"\\nDataFrame with last 2 rows:\")\n",
    "print(df.tail(2))\n",
    "\n",
    "# Using the shape() function\n",
    "print(\"\\nShape of the DataFrame:\", df.shape)\n",
    "\n",
    "# Using the describe() function\n",
    "print(\"\\nStatistical Description of the DataFrame:\")\n",
    "print(df.describe())\n",
    "\n",
    "# Using the sort_values() function\n",
    "print(\"\\nDataFrame sorted by Age:\")\n",
    "print(df.sort_values(by='Age'))\n",
    "\n",
    "# Using the groupby() function\n",
    "print(\"\\nDataFrame grouped by Gender:\")\n",
    "print(df.groupby(by='Gender').mean())\n",
    "\n",
    "# Using the set_index() function\n",
    "df = df.set_index('Name')\n",
    "print(\"DataFrame with Name column set as index:\")\n",
    "print(df)\n",
    "\n",
    "# Using the rename() function\n",
    "df = df.rename(columns={'Age': 'Age(Years)'})\n",
    "print(\"\\nDataFrame with column names changed:\")\n",
    "print(df)\n",
    "\n",
    "# Using the drop() function\n",
    "df = df.drop('Gender', axis=1)\n",
    "print(\"\\nDataFrame after dropping Gender column:\")\n",
    "print(df)\n",
    "\n",
    "# Using the fillna() function\n",
    "df = df.fillna(0)\n",
    "print(\"\\nDataFrame after filling missing values with 0:\")\n",
    "print(df)"
   ]
  },
  {
   "cell_type": "markdown",
   "metadata": {},
   "source": [
    "##### matplotlib module:<br>\n",
    "<div style=\"text-align: justify\">Matplotlib is a plottling library for the Python programming language and its numerical mathematics extension NumPy. It provides an object-oriented API for embedding plots into applications using general-purpose GUI toolkits like Tkinter, wxPython, Qt or GTK. There is also a procedural \"pylab\" interface based on a state machine (like OpenGL), designed to closely resemble that of MATLAB, though its use is discouraged. SciPy makes use of Matplotlib.\n",
    "</div>"
   ]
  },
  {
   "cell_type": "code",
   "execution_count": 9,
   "metadata": {},
   "outputs": [],
   "source": [
    "import numpy as np\n",
    "import matplotlib.pyplot as plt\n",
    "\n",
    "# Create data\n",
    "x = np.random.rand(50)\n",
    "y = np.random.rand(50)"
   ]
  },
  {
   "cell_type": "code",
   "execution_count": 10,
   "metadata": {},
   "outputs": [
    {
     "data": {
      "image/png": "[encoded data removed]",
      "text/plain": [
       "<Figure size 432x288 with 1 Axes>"
      ]
     },
     "metadata": {
      "needs_background": "light"
     },
     "output_type": "display_data"
    }
   ],
   "source": [
    "# Create a line plot\n",
    "plt.plot(x, y)\n",
    "plt.title('Line Plot')\n",
    "plt.xlabel('X-axis')\n",
    "plt.ylabel('Y-axis')\n",
    "plt.show()"
   ]
  },
  {
   "cell_type": "code",
   "execution_count": 11,
   "metadata": {},
   "outputs": [
    {
     "data": {
      "image/png": "[encoded data removed]",
      "text/plain": [
       "<Figure size 432x288 with 1 Axes>"
      ]
     },
     "metadata": {
      "needs_background": "light"
     },
     "output_type": "display_data"
    }
   ],
   "source": [
    "# Create a scatter plot\n",
    "plt.scatter(x, y)\n",
    "plt.title('Scatter Plot')\n",
    "plt.xlabel('X-axis')\n",
    "plt.ylabel('Y-axis')\n",
    "plt.show()"
   ]
  },
  {
   "cell_type": "code",
   "execution_count": 13,
   "metadata": {},
   "outputs": [],
   "source": [
    "import random"
   ]
  },
  {
   "cell_type": "code",
   "execution_count": 14,
   "metadata": {},
   "outputs": [
    {
     "data": {
      "image/png": "[encoded data removed]",
      "text/plain": [
       "<Figure size 432x288 with 1 Axes>"
      ]
     },
     "metadata": {
      "needs_background": "light"
     },
     "output_type": "display_data"
    }
   ],
   "source": [
    "# Create a bar plot\n",
    "x = [i for i in range(20)]\n",
    "y = [random.randint(0, 20) for _ in range(20)]\n",
    "plt.title(label=\"Barplot\")\n",
    "plt.bar(x=x, height=y)\n",
    "plt.show()"
   ]
  },
  {
   "cell_type": "code",
   "execution_count": 15,
   "metadata": {},
   "outputs": [
    {
     "data": {
      "image/png": "[encoded data removed]",
      "text/plain": [
       "<Figure size 432x288 with 1 Axes>"
      ]
     },
     "metadata": {
      "needs_background": "light"
     },
     "output_type": "display_data"
    }
   ],
   "source": [
    "y = np.random.normal(loc=0.5, scale=0.1, size=1000)\n",
    "plt.title(label=\"Histogram\")\n",
    "plt.hist(x=y, bins=20)\n",
    "plt.show()"
   ]
  }
 ],
 "metadata": {
  "colab": {
   "authorship_tag": "ABX9TyM+10Oa9NsCS7zlIZoehwUd",
   "provenance": []
  },
  "kernelspec": {
   "display_name": "Python 3",
   "language": "python",
   "name": "python3"
  },
  "language_info": {
   "codemirror_mode": {
    "name": "ipython",
    "version": 3
   },
   "file_extension": ".py",
   "mimetype": "text/x-python",
   "name": "python",
   "nbconvert_exporter": "python",
   "pygments_lexer": "ipython3",
   "version": "3.8.8"
  }
 },
 "nbformat": 4,
 "nbformat_minor": 1
}
