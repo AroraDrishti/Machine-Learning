{
 "cells": [
  {
   "cell_type": "markdown",
   "id": "a716fd52",
   "metadata": {},
   "source": [
    "# EXPERIMENT 8"
   ]
  },
  {
   "cell_type": "markdown",
   "id": "980942d6",
   "metadata": {},
   "source": [
    "###### Step 1:  Problem Statement\n",
    "Perform classification using Naive Bayes on the IRIS dataset"
   ]
  },
  {
   "cell_type": "code",
   "execution_count": 1,
   "id": "63916f80",
   "metadata": {},
   "outputs": [],
   "source": [
    "import numpy as np\n",
    "import pandas as pd\n",
    "import matplotlib.pyplot as plt\n",
    "import seaborn as sns"
   ]
  },
  {
   "cell_type": "markdown",
   "id": "3d432115",
   "metadata": {},
   "source": [
    "###### Step 2: Data Collection"
   ]
  },
  {
   "cell_type": "code",
   "execution_count": 2,
   "id": "f7de1e29",
   "metadata": {},
   "outputs": [],
   "source": [
    "df = pd.read_csv(r'../6ML SEM 6/datasets/Iris.csv')"
   ]
  },
  {
   "cell_type": "code",
   "execution_count": 3,
   "id": "6746509a",
   "metadata": {},
   "outputs": [
    {
     "data": {
      "text/html": [
       "<div>\n",
       "<style scoped>\n",
       "    .dataframe tbody tr th:only-of-type {\n",
       "        vertical-align: middle;\n",
       "    }\n",
       "\n",
       "    .dataframe tbody tr th {\n",
       "        vertical-align: top;\n",
       "    }\n",
       "\n",
       "    .dataframe thead th {\n",
       "        text-align: right;\n",
       "    }\n",
       "</style>\n",
       "<table border=\"1\" class=\"dataframe\">\n",
       "  <thead>\n",
       "    <tr style=\"text-align: right;\">\n",
       "      <th></th>\n",
       "      <th>sepal_length</th>\n",
       "      <th>sepal_width</th>\n",
       "      <th>petal_length</th>\n",
       "      <th>petal_width</th>\n",
       "      <th>species</th>\n",
       "    </tr>\n",
       "  </thead>\n",
       "  <tbody>\n",
       "    <tr>\n",
       "      <th>0</th>\n",
       "      <td>5.1</td>\n",
       "      <td>3.5</td>\n",
       "      <td>1.4</td>\n",
       "      <td>0.2</td>\n",
       "      <td>Iris-setosa</td>\n",
       "    </tr>\n",
       "    <tr>\n",
       "      <th>1</th>\n",
       "      <td>4.9</td>\n",
       "      <td>3.0</td>\n",
       "      <td>1.4</td>\n",
       "      <td>0.2</td>\n",
       "      <td>Iris-setosa</td>\n",
       "    </tr>\n",
       "    <tr>\n",
       "      <th>2</th>\n",
       "      <td>4.7</td>\n",
       "      <td>3.2</td>\n",
       "      <td>1.3</td>\n",
       "      <td>0.2</td>\n",
       "      <td>Iris-setosa</td>\n",
       "    </tr>\n",
       "    <tr>\n",
       "      <th>3</th>\n",
       "      <td>4.6</td>\n",
       "      <td>3.1</td>\n",
       "      <td>1.5</td>\n",
       "      <td>0.2</td>\n",
       "      <td>Iris-setosa</td>\n",
       "    </tr>\n",
       "    <tr>\n",
       "      <th>4</th>\n",
       "      <td>5.0</td>\n",
       "      <td>3.6</td>\n",
       "      <td>1.4</td>\n",
       "      <td>0.2</td>\n",
       "      <td>Iris-setosa</td>\n",
       "    </tr>\n",
       "  </tbody>\n",
       "</table>\n",
       "</div>"
      ],
      "text/plain": [
       "   sepal_length  sepal_width  petal_length  petal_width      species\n",
       "0           5.1          3.5           1.4          0.2  Iris-setosa\n",
       "1           4.9          3.0           1.4          0.2  Iris-setosa\n",
       "2           4.7          3.2           1.3          0.2  Iris-setosa\n",
       "3           4.6          3.1           1.5          0.2  Iris-setosa\n",
       "4           5.0          3.6           1.4          0.2  Iris-setosa"
      ]
     },
     "execution_count": 3,
     "metadata": {},
     "output_type": "execute_result"
    }
   ],
   "source": [
    "df.head()"
   ]
  },
  {
   "cell_type": "markdown",
   "id": "1feca19d",
   "metadata": {},
   "source": [
    "###### Step 3: Exploratory Data Analysis"
   ]
  },
  {
   "cell_type": "code",
   "execution_count": 4,
   "id": "eee26058",
   "metadata": {},
   "outputs": [
    {
     "data": {
      "text/plain": [
       "(150, 5)"
      ]
     },
     "execution_count": 4,
     "metadata": {},
     "output_type": "execute_result"
    }
   ],
   "source": [
    "df.shape"
   ]
  },
  {
   "cell_type": "code",
   "execution_count": 5,
   "id": "a6739955",
   "metadata": {},
   "outputs": [
    {
     "name": "stdout",
     "output_type": "stream",
     "text": [
      "<class 'pandas.core.frame.DataFrame'>\n",
      "RangeIndex: 150 entries, 0 to 149\n",
      "Data columns (total 5 columns):\n",
      " #   Column        Non-Null Count  Dtype  \n",
      "---  ------        --------------  -----  \n",
      " 0   sepal_length  150 non-null    float64\n",
      " 1   sepal_width   150 non-null    float64\n",
      " 2   petal_length  150 non-null    float64\n",
      " 3   petal_width   150 non-null    float64\n",
      " 4   species       150 non-null    object \n",
      "dtypes: float64(4), object(1)\n",
      "memory usage: 6.0+ KB\n"
     ]
    }
   ],
   "source": [
    "df.info()"
   ]
  },
  {
   "cell_type": "code",
   "execution_count": 6,
   "id": "a2b33856",
   "metadata": {},
   "outputs": [
    {
     "data": {
      "text/html": [
       "<div>\n",
       "<style scoped>\n",
       "    .dataframe tbody tr th:only-of-type {\n",
       "        vertical-align: middle;\n",
       "    }\n",
       "\n",
       "    .dataframe tbody tr th {\n",
       "        vertical-align: top;\n",
       "    }\n",
       "\n",
       "    .dataframe thead th {\n",
       "        text-align: right;\n",
       "    }\n",
       "</style>\n",
       "<table border=\"1\" class=\"dataframe\">\n",
       "  <thead>\n",
       "    <tr style=\"text-align: right;\">\n",
       "      <th></th>\n",
       "      <th>sepal_length</th>\n",
       "      <th>sepal_width</th>\n",
       "      <th>petal_length</th>\n",
       "      <th>petal_width</th>\n",
       "    </tr>\n",
       "  </thead>\n",
       "  <tbody>\n",
       "    <tr>\n",
       "      <th>count</th>\n",
       "      <td>150.000000</td>\n",
       "      <td>150.000000</td>\n",
       "      <td>150.000000</td>\n",
       "      <td>150.000000</td>\n",
       "    </tr>\n",
       "    <tr>\n",
       "      <th>mean</th>\n",
       "      <td>5.843333</td>\n",
       "      <td>3.054000</td>\n",
       "      <td>3.758667</td>\n",
       "      <td>1.198667</td>\n",
       "    </tr>\n",
       "    <tr>\n",
       "      <th>std</th>\n",
       "      <td>0.828066</td>\n",
       "      <td>0.433594</td>\n",
       "      <td>1.764420</td>\n",
       "      <td>0.763161</td>\n",
       "    </tr>\n",
       "    <tr>\n",
       "      <th>min</th>\n",
       "      <td>4.300000</td>\n",
       "      <td>2.000000</td>\n",
       "      <td>1.000000</td>\n",
       "      <td>0.100000</td>\n",
       "    </tr>\n",
       "    <tr>\n",
       "      <th>25%</th>\n",
       "      <td>5.100000</td>\n",
       "      <td>2.800000</td>\n",
       "      <td>1.600000</td>\n",
       "      <td>0.300000</td>\n",
       "    </tr>\n",
       "    <tr>\n",
       "      <th>50%</th>\n",
       "      <td>5.800000</td>\n",
       "      <td>3.000000</td>\n",
       "      <td>4.350000</td>\n",
       "      <td>1.300000</td>\n",
       "    </tr>\n",
       "    <tr>\n",
       "      <th>75%</th>\n",
       "      <td>6.400000</td>\n",
       "      <td>3.300000</td>\n",
       "      <td>5.100000</td>\n",
       "      <td>1.800000</td>\n",
       "    </tr>\n",
       "    <tr>\n",
       "      <th>max</th>\n",
       "      <td>7.900000</td>\n",
       "      <td>4.400000</td>\n",
       "      <td>6.900000</td>\n",
       "      <td>2.500000</td>\n",
       "    </tr>\n",
       "  </tbody>\n",
       "</table>\n",
       "</div>"
      ],
      "text/plain": [
       "       sepal_length  sepal_width  petal_length  petal_width\n",
       "count    150.000000   150.000000    150.000000   150.000000\n",
       "mean       5.843333     3.054000      3.758667     1.198667\n",
       "std        0.828066     0.433594      1.764420     0.763161\n",
       "min        4.300000     2.000000      1.000000     0.100000\n",
       "25%        5.100000     2.800000      1.600000     0.300000\n",
       "50%        5.800000     3.000000      4.350000     1.300000\n",
       "75%        6.400000     3.300000      5.100000     1.800000\n",
       "max        7.900000     4.400000      6.900000     2.500000"
      ]
     },
     "execution_count": 6,
     "metadata": {},
     "output_type": "execute_result"
    }
   ],
   "source": [
    "df.describe()"
   ]
  },
  {
   "cell_type": "code",
   "execution_count": 7,
   "id": "00db1604",
   "metadata": {},
   "outputs": [
    {
     "data": {
      "text/plain": [
       "sepal_length    0\n",
       "sepal_width     0\n",
       "petal_length    0\n",
       "petal_width     0\n",
       "species         0\n",
       "dtype: int64"
      ]
     },
     "execution_count": 7,
     "metadata": {},
     "output_type": "execute_result"
    }
   ],
   "source": [
    "# Checking for NaN values in the dataset\n",
    "df.isnull().sum()"
   ]
  },
  {
   "cell_type": "code",
   "execution_count": 9,
   "id": "506f0d69",
   "metadata": {},
   "outputs": [
    {
     "data": {
      "text/plain": [
       "{'whiskers': [<matplotlib.lines.Line2D at 0x2b2e0fb1100>,\n",
       "  <matplotlib.lines.Line2D at 0x2b2e0fb1460>,\n",
       "  <matplotlib.lines.Line2D at 0x2b2e0fbb940>,\n",
       "  <matplotlib.lines.Line2D at 0x2b2e0fbbca0>,\n",
       "  <matplotlib.lines.Line2D at 0x2b2e0fd3160>,\n",
       "  <matplotlib.lines.Line2D at 0x2b2e0fd34c0>,\n",
       "  <matplotlib.lines.Line2D at 0x2b2e0fde940>,\n",
       "  <matplotlib.lines.Line2D at 0x2b2e0fdeca0>],\n",
       " 'caps': [<matplotlib.lines.Line2D at 0x2b2e0fb17c0>,\n",
       "  <matplotlib.lines.Line2D at 0x2b2e0fb1b20>,\n",
       "  <matplotlib.lines.Line2D at 0x2b2e0fc7040>,\n",
       "  <matplotlib.lines.Line2D at 0x2b2e0fc73a0>,\n",
       "  <matplotlib.lines.Line2D at 0x2b2e0fd3820>,\n",
       "  <matplotlib.lines.Line2D at 0x2b2e0fd3b80>,\n",
       "  <matplotlib.lines.Line2D at 0x2b2e0fe9040>,\n",
       "  <matplotlib.lines.Line2D at 0x2b2e0fe93a0>],\n",
       " 'boxes': [<matplotlib.lines.Line2D at 0x2b2def99d60>,\n",
       "  <matplotlib.lines.Line2D at 0x2b2e0fbb5e0>,\n",
       "  <matplotlib.lines.Line2D at 0x2b2e0fc7dc0>,\n",
       "  <matplotlib.lines.Line2D at 0x2b2e0fde5e0>],\n",
       " 'medians': [<matplotlib.lines.Line2D at 0x2b2e0fb1e80>,\n",
       "  <matplotlib.lines.Line2D at 0x2b2e0fc7700>,\n",
       "  <matplotlib.lines.Line2D at 0x2b2e0fd3ee0>,\n",
       "  <matplotlib.lines.Line2D at 0x2b2e0fe9700>],\n",
       " 'fliers': [<matplotlib.lines.Line2D at 0x2b2e0fbb250>,\n",
       "  <matplotlib.lines.Line2D at 0x2b2e0fc7a60>,\n",
       "  <matplotlib.lines.Line2D at 0x2b2e0fde280>,\n",
       "  <matplotlib.lines.Line2D at 0x2b2e0fe9a60>],\n",
       " 'means': []}"
      ]
     },
     "execution_count": 9,
     "metadata": {},
     "output_type": "execute_result"
    },
    {
     "data": {
      "image/png": "[encoded data removed]",
      "text/plain": [
       "<Figure size 720x216 with 1 Axes>"
      ]
     },
     "metadata": {
      "needs_background": "light"
     },
     "output_type": "display_data"
    }
   ],
   "source": [
    "# Visualizing the outliers\n",
    "fig=plt.figure(figsize=(10,3))\n",
    "plt.boxplot(df[[\"sepal_length\", \"sepal_width\", \"petal_length\", \"petal_width\"]], labels = [\"sepal_length\", \"sepal_width\", \"petal_length\", \"petal_width\"])"
   ]
  },
  {
   "cell_type": "code",
   "execution_count": 10,
   "id": "adcba0c6",
   "metadata": {},
   "outputs": [
    {
     "data": {
      "image/png": "[encoded data removed]",
      "text/plain": [
       "<Figure size 432x288 with 1 Axes>"
      ]
     },
     "metadata": {
      "needs_background": "light"
     },
     "output_type": "display_data"
    }
   ],
   "source": [
    "countplot = sns.countplot(x=df['species'], data=df, palette='Set1')\n",
    "plt.xlabel('species')\n",
    "plt.ylabel('Count')\n",
    "plt.title('Count Plot for species')\n",
    "plt.show()"
   ]
  },
  {
   "cell_type": "code",
   "execution_count": 11,
   "id": "4e85646d",
   "metadata": {},
   "outputs": [
    {
     "name": "stderr",
     "output_type": "stream",
     "text": [
      "C:\\Users\\HP\\anaconda3\\lib\\site-packages\\seaborn\\distributions.py:2557: FutureWarning: `distplot` is a deprecated function and will be removed in a future version. Please adapt your code to use either `displot` (a figure-level function with similar flexibility) or `histplot` (an axes-level function for histograms).\n",
      "  warnings.warn(msg, FutureWarning)\n"
     ]
    },
    {
     "data": {
      "image/png": "[encoded data removed]",
      "text/plain": [
       "<Figure size 432x288 with 1 Axes>"
      ]
     },
     "metadata": {
      "needs_background": "light"
     },
     "output_type": "display_data"
    },
    {
     "name": "stderr",
     "output_type": "stream",
     "text": [
      "C:\\Users\\HP\\anaconda3\\lib\\site-packages\\seaborn\\distributions.py:2557: FutureWarning: `distplot` is a deprecated function and will be removed in a future version. Please adapt your code to use either `displot` (a figure-level function with similar flexibility) or `histplot` (an axes-level function for histograms).\n",
      "  warnings.warn(msg, FutureWarning)\n"
     ]
    },
    {
     "data": {
      "image/png": "[encoded data removed]",
      "text/plain": [
       "<Figure size 432x288 with 1 Axes>"
      ]
     },
     "metadata": {
      "needs_background": "light"
     },
     "output_type": "display_data"
    },
    {
     "name": "stderr",
     "output_type": "stream",
     "text": [
      "C:\\Users\\HP\\anaconda3\\lib\\site-packages\\seaborn\\distributions.py:2557: FutureWarning: `distplot` is a deprecated function and will be removed in a future version. Please adapt your code to use either `displot` (a figure-level function with similar flexibility) or `histplot` (an axes-level function for histograms).\n",
      "  warnings.warn(msg, FutureWarning)\n"
     ]
    },
    {
     "data": {
      "image/png": "[encoded data removed]",
      "text/plain": [
       "<Figure size 432x288 with 1 Axes>"
      ]
     },
     "metadata": {
      "needs_background": "light"
     },
     "output_type": "display_data"
    },
    {
     "name": "stderr",
     "output_type": "stream",
     "text": [
      "C:\\Users\\HP\\anaconda3\\lib\\site-packages\\seaborn\\distributions.py:2557: FutureWarning: `distplot` is a deprecated function and will be removed in a future version. Please adapt your code to use either `displot` (a figure-level function with similar flexibility) or `histplot` (an axes-level function for histograms).\n",
      "  warnings.warn(msg, FutureWarning)\n"
     ]
    },
    {
     "data": {
      "image/png": "[encoded data removed]",
      "text/plain": [
       "<Figure size 432x288 with 1 Axes>"
      ]
     },
     "metadata": {
      "needs_background": "light"
     },
     "output_type": "display_data"
    }
   ],
   "source": [
    "# Visualization of the features of the dataset using Distribution Plots\n",
    "for cols in [\"sepal_length\", \"sepal_width\", \"petal_length\", \"petal_width\"]:\n",
    "    distributionplot = sns.distplot(a=df[cols], bins=10, hist=True, kde=True)\n",
    "    plt.xlabel(cols)\n",
    "    plt.ylabel('Frequency')\n",
    "    plt.title('Distribution plot for ' + cols)\n",
    "    plt.show()"
   ]
  },
  {
   "cell_type": "markdown",
   "id": "144e1ac3",
   "metadata": {},
   "source": [
    "###### Step 4: Data Preprocessing"
   ]
  },
  {
   "cell_type": "markdown",
   "id": "e0105088",
   "metadata": {},
   "source": [
    "Data Preprocessing on Train Data"
   ]
  },
  {
   "cell_type": "code",
   "execution_count": 12,
   "id": "d3afa7eb",
   "metadata": {},
   "outputs": [
    {
     "data": {
      "text/html": [
       "<div>\n",
       "<style scoped>\n",
       "    .dataframe tbody tr th:only-of-type {\n",
       "        vertical-align: middle;\n",
       "    }\n",
       "\n",
       "    .dataframe tbody tr th {\n",
       "        vertical-align: top;\n",
       "    }\n",
       "\n",
       "    .dataframe thead th {\n",
       "        text-align: right;\n",
       "    }\n",
       "</style>\n",
       "<table border=\"1\" class=\"dataframe\">\n",
       "  <thead>\n",
       "    <tr style=\"text-align: right;\">\n",
       "      <th></th>\n",
       "      <th>sepal_length</th>\n",
       "      <th>sepal_width</th>\n",
       "      <th>petal_length</th>\n",
       "      <th>petal_width</th>\n",
       "    </tr>\n",
       "  </thead>\n",
       "  <tbody>\n",
       "    <tr>\n",
       "      <th>0</th>\n",
       "      <td>5.1</td>\n",
       "      <td>3.5</td>\n",
       "      <td>1.4</td>\n",
       "      <td>0.2</td>\n",
       "    </tr>\n",
       "    <tr>\n",
       "      <th>1</th>\n",
       "      <td>4.9</td>\n",
       "      <td>3.0</td>\n",
       "      <td>1.4</td>\n",
       "      <td>0.2</td>\n",
       "    </tr>\n",
       "    <tr>\n",
       "      <th>2</th>\n",
       "      <td>4.7</td>\n",
       "      <td>3.2</td>\n",
       "      <td>1.3</td>\n",
       "      <td>0.2</td>\n",
       "    </tr>\n",
       "    <tr>\n",
       "      <th>3</th>\n",
       "      <td>4.6</td>\n",
       "      <td>3.1</td>\n",
       "      <td>1.5</td>\n",
       "      <td>0.2</td>\n",
       "    </tr>\n",
       "    <tr>\n",
       "      <th>4</th>\n",
       "      <td>5.0</td>\n",
       "      <td>3.6</td>\n",
       "      <td>1.4</td>\n",
       "      <td>0.2</td>\n",
       "    </tr>\n",
       "  </tbody>\n",
       "</table>\n",
       "</div>"
      ],
      "text/plain": [
       "   sepal_length  sepal_width  petal_length  petal_width\n",
       "0           5.1          3.5           1.4          0.2\n",
       "1           4.9          3.0           1.4          0.2\n",
       "2           4.7          3.2           1.3          0.2\n",
       "3           4.6          3.1           1.5          0.2\n",
       "4           5.0          3.6           1.4          0.2"
      ]
     },
     "execution_count": 12,
     "metadata": {},
     "output_type": "execute_result"
    }
   ],
   "source": [
    "# Input DataFrame\n",
    "X=df.iloc[:,0:-1]\n",
    "X.head()"
   ]
  },
  {
   "cell_type": "code",
   "execution_count": 13,
   "id": "74c62f92",
   "metadata": {},
   "outputs": [
    {
     "data": {
      "text/plain": [
       "0    Iris-setosa\n",
       "1    Iris-setosa\n",
       "2    Iris-setosa\n",
       "3    Iris-setosa\n",
       "4    Iris-setosa\n",
       "Name: species, dtype: object"
      ]
     },
     "execution_count": 13,
     "metadata": {},
     "output_type": "execute_result"
    }
   ],
   "source": [
    "# Target DataFrame\n",
    "Y=df.iloc[:,-1]\n",
    "Y.head()"
   ]
  },
  {
   "cell_type": "code",
   "execution_count": 14,
   "id": "5af43516",
   "metadata": {},
   "outputs": [],
   "source": [
    "from sklearn.model_selection import train_test_split\n",
    "X_train, X_test, Y_train, Y_test = train_test_split(X, Y, test_size = 0.2, random_state = 0)"
   ]
  },
  {
   "cell_type": "code",
   "execution_count": 15,
   "id": "efa34ab3",
   "metadata": {},
   "outputs": [
    {
     "data": {
      "text/plain": [
       "{'whiskers': [<matplotlib.lines.Line2D at 0x2b2e27c5460>,\n",
       "  <matplotlib.lines.Line2D at 0x2b2e27c57c0>,\n",
       "  <matplotlib.lines.Line2D at 0x2b2e27d1c40>,\n",
       "  <matplotlib.lines.Line2D at 0x2b2e27d1fa0>,\n",
       "  <matplotlib.lines.Line2D at 0x2b2e27e8460>,\n",
       "  <matplotlib.lines.Line2D at 0x2b2e27e87c0>,\n",
       "  <matplotlib.lines.Line2D at 0x2b2e27f4c70>,\n",
       "  <matplotlib.lines.Line2D at 0x2b2e27f4fd0>],\n",
       " 'caps': [<matplotlib.lines.Line2D at 0x2b2e27c5b20>,\n",
       "  <matplotlib.lines.Line2D at 0x2b2e27c5e80>,\n",
       "  <matplotlib.lines.Line2D at 0x2b2e27dc340>,\n",
       "  <matplotlib.lines.Line2D at 0x2b2e27dc6a0>,\n",
       "  <matplotlib.lines.Line2D at 0x2b2e27e8b20>,\n",
       "  <matplotlib.lines.Line2D at 0x2b2e27e8e80>,\n",
       "  <matplotlib.lines.Line2D at 0x2b2e27ff370>,\n",
       "  <matplotlib.lines.Line2D at 0x2b2e27ff6d0>],\n",
       " 'boxes': [<matplotlib.lines.Line2D at 0x2b2e27c5100>,\n",
       "  <matplotlib.lines.Line2D at 0x2b2e27d18e0>,\n",
       "  <matplotlib.lines.Line2D at 0x2b2e27e8100>,\n",
       "  <matplotlib.lines.Line2D at 0x2b2e27f4910>],\n",
       " 'medians': [<matplotlib.lines.Line2D at 0x2b2e27d1220>,\n",
       "  <matplotlib.lines.Line2D at 0x2b2e27dca00>,\n",
       "  <matplotlib.lines.Line2D at 0x2b2e27f4220>,\n",
       "  <matplotlib.lines.Line2D at 0x2b2e27ffa30>],\n",
       " 'fliers': [<matplotlib.lines.Line2D at 0x2b2e27d1580>,\n",
       "  <matplotlib.lines.Line2D at 0x2b2e27dcd60>,\n",
       "  <matplotlib.lines.Line2D at 0x2b2e27f45b0>,\n",
       "  <matplotlib.lines.Line2D at 0x2b2e27ffd90>],\n",
       " 'means': []}"
      ]
     },
     "execution_count": 15,
     "metadata": {},
     "output_type": "execute_result"
    },
    {
     "data": {
      "image/png": "[encoded data removed]",
      "text/plain": [
       "<Figure size 720x216 with 1 Axes>"
      ]
     },
     "metadata": {
      "needs_background": "light"
     },
     "output_type": "display_data"
    }
   ],
   "source": [
    "# Visualizing the outliers\n",
    "fig=plt.figure(figsize=(10,3))\n",
    "plt.boxplot(X_train[[\"sepal_length\", \"sepal_width\", \"petal_length\", \"petal_width\"]], labels = [\"sepal_length\", \"sepal_width\", \"petal_length\", \"petal_width\"])"
   ]
  },
  {
   "cell_type": "code",
   "execution_count": 16,
   "id": "4634bba3",
   "metadata": {},
   "outputs": [
    {
     "data": {
      "text/plain": [
       "Text(0.5, 1.0, 'Scatter Plot before Outlier Handling')"
      ]
     },
     "execution_count": 16,
     "metadata": {},
     "output_type": "execute_result"
    },
    {
     "data": {
      "image/png": "[encoded data removed]",
      "text/plain": [
       "<Figure size 432x288 with 1 Axes>"
      ]
     },
     "metadata": {
      "needs_background": "light"
     },
     "output_type": "display_data"
    }
   ],
   "source": [
    "#Visualization using Scatter Plot before Outlier Handling\n",
    "plt.scatter(X_train['sepal_length'],X_train['sepal_width'])\n",
    "plt.xlabel('sepal_length')\n",
    "plt.ylabel('sepal_width')\n",
    "plt.title('Scatter Plot before Outlier Handling')"
   ]
  },
  {
   "cell_type": "code",
   "execution_count": 17,
   "id": "5495b9cc",
   "metadata": {},
   "outputs": [],
   "source": [
    "# Handling the outliers using quantile-based Capping and Flooring techniqueupper_limit = X_train['bmi'].quantile(0.99)\n",
    "upper_limit = X_train['sepal_width'].quantile(0.99)\n",
    "lower_limit = X_train['sepal_width'].quantile(0.01)\n",
    "X_train['sepal_width'] = np.where(X_train['sepal_width'] >= upper_limit, upper_limit,\n",
    "        np.where(X_train['sepal_width'] <= lower_limit, lower_limit, X_train['sepal_width']))"
   ]
  },
  {
   "cell_type": "code",
   "execution_count": 18,
   "id": "b49aa82d",
   "metadata": {},
   "outputs": [
    {
     "data": {
      "text/plain": [
       "Text(0.5, 1.0, 'Scatter Plot after Outlier Handling')"
      ]
     },
     "execution_count": 18,
     "metadata": {},
     "output_type": "execute_result"
    },
    {
     "data": {
      "image/png": "[encoded data removed]",
      "text/plain": [
       "<Figure size 432x288 with 1 Axes>"
      ]
     },
     "metadata": {
      "needs_background": "light"
     },
     "output_type": "display_data"
    }
   ],
   "source": [
    "#Visualization using Scatter Plot after Outlier Handling\n",
    "plt.scatter(X_train['sepal_length'],X_train['sepal_width'])\n",
    "plt.xlabel('sepal_length')\n",
    "plt.ylabel('sepal_width')\n",
    "plt.title('Scatter Plot after Outlier Handling')"
   ]
  },
  {
   "cell_type": "markdown",
   "id": "95009d4a",
   "metadata": {},
   "source": [
    "###### Feature Scaling"
   ]
  },
  {
   "cell_type": "code",
   "execution_count": 19,
   "id": "4672b115",
   "metadata": {},
   "outputs": [
    {
     "data": {
      "text/plain": [
       "array([[-0.09544771, -0.6025416 ,  0.72247648,  1.51195265],\n",
       "       [ 0.14071157, -2.03612149,  0.10361279, -0.29851096],\n",
       "       [-0.44968663,  2.74247816, -1.35915595, -1.3330616 ],\n",
       "       [ 1.6757469 , -0.36361161,  1.39760052,  0.73603967],\n",
       "       [-1.04008484,  0.8310383 , -1.30289562, -1.3330616 ],\n",
       "       [ 0.49495049,  0.59210832,  1.22881951,  1.64127148],\n",
       "       [-1.04008484,  1.06996828, -1.41541629, -1.20374277],\n",
       "       [ 0.96726906,  0.11424835,  0.49743514,  0.34808318],\n",
       "       [ 1.0853487 , -0.6025416 ,  0.55369548,  0.21876435],\n",
       "       [ 0.25879121, -0.6025416 ,  0.10361279,  0.08944552],\n",
       "       [ 0.25879121, -1.08040156,  1.00377816,  0.21876435],\n",
       "       [ 0.61303014,  0.35317834,  0.38491447,  0.34808318],\n",
       "       [ 0.25879121, -0.6025416 ,  0.49743514, -0.03987331],\n",
       "       [ 0.73110978, -0.6025416 ,  0.4411748 ,  0.34808318],\n",
       "       [ 0.25879121, -0.36361161,  0.49743514,  0.21876435],\n",
       "       [-1.15816448,  0.11424835, -1.30289562, -1.46238043],\n",
       "       [ 0.14071157, -0.36361161,  0.38491447,  0.34808318],\n",
       "       [-0.44968663, -1.08040156,  0.32865413, -0.03987331],\n",
       "       [-1.27624412, -0.12468163, -1.35915595, -1.20374277],\n",
       "       [-0.56776627,  2.02568822, -1.41541629, -1.07442394],\n",
       "       [-0.33160699, -0.6025416 ,  0.60995581,  0.99467733],\n",
       "       [-0.33160699, -0.12468163,  0.38491447,  0.34808318],\n",
       "       [-1.27624412,  0.8310383 , -1.07785427, -1.3330616 ],\n",
       "       [-1.74856268, -0.36361161, -1.35915595, -1.3330616 ],\n",
       "       [ 0.37687085, -0.6025416 ,  0.55369548,  0.73603967],\n",
       "       [-1.5124034 ,  1.30889827, -1.5841973 , -1.3330616 ],\n",
       "       [-0.9220052 ,  1.78675823, -1.07785427, -1.07442394],\n",
       "       [ 0.37687085, -0.36361161,  0.27239379,  0.08944552],\n",
       "       [-1.04008484, -1.79719151, -0.29020957, -0.29851096],\n",
       "       [-1.04008484,  0.8310383 , -1.24663528, -1.07442394]])"
      ]
     },
     "execution_count": 19,
     "metadata": {},
     "output_type": "execute_result"
    }
   ],
   "source": [
    "from sklearn.preprocessing import StandardScaler \n",
    "scaler = StandardScaler()\n",
    "scaler.fit_transform(X_train)\n",
    "scaler.transform(X_test)"
   ]
  },
  {
   "cell_type": "markdown",
   "id": "4e82d89e",
   "metadata": {},
   "source": [
    "###### Step 5: Model Building"
   ]
  },
  {
   "cell_type": "code",
   "execution_count": 20,
   "id": "2cc4af06",
   "metadata": {},
   "outputs": [],
   "source": [
    "from sklearn.naive_bayes import GaussianNB\n",
    "model_naive_bayes = GaussianNB()\n",
    "\n",
    "model_naive_bayes.fit(X_train,Y_train)\n",
    "\n",
    "Y_pred_train_naive_bayes = model_naive_bayes.predict(X_train)\n",
    "Y_pred_test_naive_bayes = model_naive_bayes.predict(X_test)"
   ]
  },
  {
   "cell_type": "markdown",
   "id": "b21b049f",
   "metadata": {},
   "source": [
    "###### Step 6: Model Evaluation"
   ]
  },
  {
   "cell_type": "code",
   "execution_count": 22,
   "id": "9fe81f19",
   "metadata": {},
   "outputs": [
    {
     "name": "stdout",
     "output_type": "stream",
     "text": [
      "\n",
      "Confusion Matrix:\n",
      "\n"
     ]
    },
    {
     "name": "stderr",
     "output_type": "stream",
     "text": [
      "C:\\Users\\HP\\anaconda3\\lib\\site-packages\\sklearn\\utils\\deprecation.py:87: FutureWarning: Function plot_confusion_matrix is deprecated; Function `plot_confusion_matrix` is deprecated in 1.0 and will be removed in 1.2. Use one of the class methods: ConfusionMatrixDisplay.from_predictions or ConfusionMatrixDisplay.from_estimator.\n",
      "  warnings.warn(msg, category=FutureWarning)\n"
     ]
    },
    {
     "data": {
      "text/plain": [
       "<sklearn.metrics._plot.confusion_matrix.ConfusionMatrixDisplay at 0x2b2e22c1070>"
      ]
     },
     "execution_count": 22,
     "metadata": {},
     "output_type": "execute_result"
    },
    {
     "data": {
      "image/png": "[encoded data removed]",
      "text/plain": [
       "<Figure size 432x288 with 2 Axes>"
      ]
     },
     "metadata": {
      "needs_background": "light"
     },
     "output_type": "display_data"
    }
   ],
   "source": [
    "from sklearn.metrics import classification_report, confusion_matrix, accuracy_score, recall_score, fbeta_score, roc_auc_score, roc_curve, RocCurveDisplay, plot_confusion_matrix\n",
    "\n",
    "print('\\nConfusion Matrix:\\n')\n",
    "plot_confusion_matrix(model_naive_bayes,X_test, Y_test) "
   ]
  },
  {
   "cell_type": "code",
   "execution_count": 24,
   "id": "1d355a87",
   "metadata": {},
   "outputs": [
    {
     "name": "stdout",
     "output_type": "stream",
     "text": [
      "Train accuracy: 0.95\n",
      "Test accuracy: 0.9666666666666667\n",
      "\n",
      "Classification Report:\n",
      "\n",
      "                 precision    recall  f1-score   support\n",
      "\n",
      "    Iris-setosa       1.00      1.00      1.00        11\n",
      "Iris-versicolor       0.93      1.00      0.96        13\n",
      " Iris-virginica       1.00      0.83      0.91         6\n",
      "\n",
      "       accuracy                           0.97        30\n",
      "      macro avg       0.98      0.94      0.96        30\n",
      "   weighted avg       0.97      0.97      0.97        30\n",
      "\n"
     ]
    }
   ],
   "source": [
    "print('Train accuracy: ' + str(accuracy_score(Y_train, Y_pred_train_naive_bayes)))\n",
    "print('Test accuracy: ' + str(accuracy_score(Y_test, Y_pred_test_naive_bayes)))\n",
    "\n",
    "print('\\nClassification Report:\\n')\n",
    "print(classification_report(Y_test, Y_pred_test_naive_bayes))"
   ]
  }
 ],
 "metadata": {
  "kernelspec": {
   "display_name": "Python 3",
   "language": "python",
   "name": "python3"
  },
  "language_info": {
   "codemirror_mode": {
    "name": "ipython",
    "version": 3
   },
   "file_extension": ".py",
   "mimetype": "text/x-python",
   "name": "python",
   "nbconvert_exporter": "python",
   "pygments_lexer": "ipython3",
   "version": "3.8.8"
  }
 },
 "nbformat": 4,
 "nbformat_minor": 5
}
