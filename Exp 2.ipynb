{
 "cells": [
  {
   "cell_type": "markdown",
   "metadata": {},
   "source": [
    "# EXPERIMENT 2 "
   ]
  },
  {
   "cell_type": "markdown",
   "metadata": {},
   "source": [
    "#### Q1. WAP to implement measures of central tendency and measures of dispersion in python. "
   ]
  },
  {
   "cell_type": "markdown",
   "metadata": {},
   "source": [
    "###### MEASURES OF CENTRAL TENDENCY"
   ]
  },
  {
   "cell_type": "code",
   "execution_count": 1,
   "metadata": {
    "executionInfo": {
     "elapsed": 412,
     "status": "ok",
     "timestamp": 1672914118856,
     "user": {
      "displayName": "Dusty Arora",
      "userId": "06787956934940625276"
     },
     "user_tz": -330
    },
    "id": "CMtTh-8ZbCGV"
   },
   "outputs": [
    {
     "name": "stdout",
     "output_type": "stream",
     "text": [
      "[100, 72, 81, 4, 45, 53, 26, 90, 71, 43, 58, 78, 25, 74, 67, 39, 22, 59, 13, 83]\n"
     ]
    }
   ],
   "source": [
    "import random\n",
    "data = [random.randint(a=0, b=100) for _ in range(20)]\n",
    "print(data)"
   ]
  },
  {
   "cell_type": "markdown",
   "metadata": {},
   "source": [
    "1. MEAN"
   ]
  },
  {
   "cell_type": "code",
   "execution_count": 2,
   "metadata": {},
   "outputs": [
    {
     "name": "stdout",
     "output_type": "stream",
     "text": [
      "Mean:  55.15\n"
     ]
    }
   ],
   "source": [
    "mean_val = sum(data) / len(data)\n",
    "print(\"Mean: \", mean_val)"
   ]
  },
  {
   "cell_type": "markdown",
   "metadata": {},
   "source": [
    "2. MEDIAN"
   ]
  },
  {
   "cell_type": "code",
   "execution_count": 3,
   "metadata": {
    "colab": {
     "base_uri": "https://localhost:8080/"
    },
    "executionInfo": {
     "elapsed": 427,
     "status": "ok",
     "timestamp": 1672914162152,
     "user": {
      "displayName": "Dusty Arora",
      "userId": "06787956934940625276"
     },
     "user_tz": -330
    },
    "id": "Wk4QQee9c9G3",
    "outputId": "b9fc98f0-e90c-465f-96c8-b4927e690738"
   },
   "outputs": [
    {
     "name": "stdout",
     "output_type": "stream",
     "text": [
      "Median:  58.5\n"
     ]
    }
   ],
   "source": [
    "data.sort()\n",
    "mid = len(data)//2\n",
    "if len(data) % 2 == 0:\n",
    "    median_val = (data[mid - 1] + data[mid]) / 2\n",
    "else:\n",
    "    median_val = data[mid]\n",
    "print(\"Median: \", median_val)"
   ]
  },
  {
   "cell_type": "markdown",
   "metadata": {},
   "source": [
    "3. MODE"
   ]
  },
  {
   "cell_type": "code",
   "execution_count": 4,
   "metadata": {
    "executionInfo": {
     "elapsed": 2,
     "status": "ok",
     "timestamp": 1672914566782,
     "user": {
      "displayName": "Dusty Arora",
      "userId": "06787956934940625276"
     },
     "user_tz": -330
    },
    "id": "xVVRAJEvd_bV"
   },
   "outputs": [
    {
     "name": "stdout",
     "output_type": "stream",
     "text": [
      "Mode:  4\n"
     ]
    }
   ],
   "source": [
    "from collections import Counter\n",
    "mode_val = Counter(data).most_common(1)[0][0]\n",
    "print(\"Mode: \", mode_val)"
   ]
  },
  {
   "cell_type": "markdown",
   "metadata": {},
   "source": [
    "###### MESAURES OF DISPERSION"
   ]
  },
  {
   "cell_type": "markdown",
   "metadata": {},
   "source": [
    "1. VARIANCE"
   ]
  },
  {
   "cell_type": "code",
   "execution_count": 5,
   "metadata": {
    "executionInfo": {
     "elapsed": 676,
     "status": "ok",
     "timestamp": 1672914679886,
     "user": {
      "displayName": "Dusty Arora",
      "userId": "06787956934940625276"
     },
     "user_tz": -330
    },
    "id": "s3SMXWOme0nw"
   },
   "outputs": [],
   "source": [
    "def variance(data): \n",
    "  n = len(data)\n",
    "  mean = sum(data) / n\n",
    "  dev = [(x - mean) ** 2 for x in data]\n",
    "  var = sum(dev) / n\n",
    "  return var"
   ]
  },
  {
   "cell_type": "code",
   "execution_count": 6,
   "metadata": {
    "colab": {
     "base_uri": "https://localhost:8080/"
    },
    "executionInfo": {
     "elapsed": 402,
     "status": "ok",
     "timestamp": 1672914710735,
     "user": {
      "displayName": "Dusty Arora",
      "userId": "06787956934940625276"
     },
     "user_tz": -330
    },
    "id": "ZBqL8gxDfDma",
    "outputId": "e1c84a5c-0eed-4bc4-9a7b-679df11ade50"
   },
   "outputs": [
    {
     "name": "stdout",
     "output_type": "stream",
     "text": [
      "700.6274999999999\n"
     ]
    }
   ],
   "source": [
    "var = variance(data)\n",
    "print(var)"
   ]
  },
  {
   "cell_type": "markdown",
   "metadata": {},
   "source": [
    "2. STANDARD DEVIATION"
   ]
  },
  {
   "cell_type": "code",
   "execution_count": 7,
   "metadata": {
    "colab": {
     "base_uri": "https://localhost:8080/"
    },
    "executionInfo": {
     "elapsed": 3,
     "status": "ok",
     "timestamp": 1672914795616,
     "user": {
      "displayName": "Dusty Arora",
      "userId": "06787956934940625276"
     },
     "user_tz": -330
    },
    "id": "kbHcvIhmc9A-",
    "outputId": "f47343b0-47a9-4f53-a6d0-41441d29c2c4"
   },
   "outputs": [
    {
     "name": "stdout",
     "output_type": "stream",
     "text": [
      "26.469369089572194\n"
     ]
    }
   ],
   "source": [
    "import math \n",
    "std = math.sqrt(var)\n",
    "print(std)"
   ]
  }
 ],
 "metadata": {
  "colab": {
   "authorship_tag": "ABX9TyM+10Oa9NsCS7zlIZoehwUd",
   "provenance": []
  },
  "kernelspec": {
   "display_name": "Python 3",
   "language": "python",
   "name": "python3"
  },
  "language_info": {
   "codemirror_mode": {
    "name": "ipython",
    "version": 3
   },
   "file_extension": ".py",
   "mimetype": "text/x-python",
   "name": "python",
   "nbconvert_exporter": "python",
   "pygments_lexer": "ipython3",
   "version": "3.8.8"
  }
 },
 "nbformat": 4,
 "nbformat_minor": 1
}
